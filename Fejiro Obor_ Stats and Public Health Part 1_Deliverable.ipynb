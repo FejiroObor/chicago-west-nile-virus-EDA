{
 "cells": [
  {
   "cell_type": "markdown",
   "id": "bbb436f6",
   "metadata": {},
   "source": [
    "Author: Fejiro Obor\n",
    "\n",
    "Statistics & Public Health 1 Deliverable: Cleaning and EDA"
   ]
  },
  {
   "cell_type": "markdown",
   "id": "29e0a007",
   "metadata": {},
   "source": [
    "# Prevalence of West Nile Virus (WNV)  in Chicago, IL between 2008 - 2019"
   ]
  },
  {
   "cell_type": "markdown",
   "id": "a9a04b6c",
   "metadata": {},
   "source": [
    "West Nile Virus (WNV) is a common illness that is usually spread by mosquitoes. The virus has consistently been reported to be linked with sevaral cases of illness near Chicago, Illinois. Using data obtained from the city of Chicago on mosquito populations and WNV presence between 2007 to 2019, we will perform EDA and data wrangling to better understand presence of this virus within the city."
   ]
  },
  {
   "cell_type": "markdown",
   "id": "df711e38",
   "metadata": {},
   "source": [
    "## Preliminary Data Exploration"
   ]
  },
  {
   "cell_type": "markdown",
   "id": "0de6aedd",
   "metadata": {},
   "source": [
    "Firstly, we need to install geopandas as our script depends on it. Next we will import the required libraries and read in the provided csv data"
   ]
  },
  {
   "cell_type": "code",
   "execution_count": 1,
   "id": "b0fa38ee",
   "metadata": {},
   "outputs": [],
   "source": [
    "# pip install geopandas"
   ]
  },
  {
   "cell_type": "code",
   "execution_count": 2,
   "id": "c490c26f",
   "metadata": {},
   "outputs": [],
   "source": [
    "import pandas as pd\n",
    "import numpy as np\n",
    "import matplotlib.pyplot as plt\n",
    "import seaborn as sns\n",
    "import geopandas as gpd\n",
    "from shapely.geometry import Point, Polygon\n",
    "%matplotlib inline\n",
    "\n",
    "sns.set_palette(\"dark:#5A9_r\")\n",
    "sns.set_style('whitegrid')"
   ]
  },
  {
   "cell_type": "code",
   "execution_count": 3,
   "id": "8790e7b7",
   "metadata": {},
   "outputs": [
    {
     "data": {
      "text/html": [
       "<div>\n",
       "<style scoped>\n",
       "    .dataframe tbody tr th:only-of-type {\n",
       "        vertical-align: middle;\n",
       "    }\n",
       "\n",
       "    .dataframe tbody tr th {\n",
       "        vertical-align: top;\n",
       "    }\n",
       "\n",
       "    .dataframe thead th {\n",
       "        text-align: right;\n",
       "    }\n",
       "</style>\n",
       "<table border=\"1\" class=\"dataframe\">\n",
       "  <thead>\n",
       "    <tr style=\"text-align: right;\">\n",
       "      <th></th>\n",
       "      <th>Year</th>\n",
       "      <th>Week</th>\n",
       "      <th>Address Block</th>\n",
       "      <th>Block</th>\n",
       "      <th>Trap</th>\n",
       "      <th>Trap type</th>\n",
       "      <th>Date</th>\n",
       "      <th>Mosquito number</th>\n",
       "      <th>Mosquito ID</th>\n",
       "      <th>WNV Present</th>\n",
       "      <th>Species</th>\n",
       "      <th>Lat</th>\n",
       "      <th>Lon</th>\n",
       "    </tr>\n",
       "  </thead>\n",
       "  <tbody>\n",
       "    <tr>\n",
       "      <th>0</th>\n",
       "      <td>2019</td>\n",
       "      <td>39</td>\n",
       "      <td>100XX W OHARE AIRPORT</td>\n",
       "      <td>100</td>\n",
       "      <td>T910</td>\n",
       "      <td>GRAVID</td>\n",
       "      <td>2019-09-26 00:09:00</td>\n",
       "      <td>2</td>\n",
       "      <td>Res</td>\n",
       "      <td>negative</td>\n",
       "      <td>CULEX RESTUANS</td>\n",
       "      <td>NaN</td>\n",
       "      <td>NaN</td>\n",
       "    </tr>\n",
       "    <tr>\n",
       "      <th>1</th>\n",
       "      <td>2019</td>\n",
       "      <td>39</td>\n",
       "      <td>52XX S KOLMAR AVE</td>\n",
       "      <td>52</td>\n",
       "      <td>T114</td>\n",
       "      <td>GRAVID</td>\n",
       "      <td>2019-09-26 00:09:00</td>\n",
       "      <td>1</td>\n",
       "      <td>Res</td>\n",
       "      <td>negative</td>\n",
       "      <td>CULEX RESTUANS</td>\n",
       "      <td>41.798211</td>\n",
       "      <td>-87.736925</td>\n",
       "    </tr>\n",
       "    <tr>\n",
       "      <th>2</th>\n",
       "      <td>2019</td>\n",
       "      <td>39</td>\n",
       "      <td>58XX N WESTERN AVE</td>\n",
       "      <td>58</td>\n",
       "      <td>T028</td>\n",
       "      <td>GRAVID</td>\n",
       "      <td>2019-09-26 00:09:00</td>\n",
       "      <td>2</td>\n",
       "      <td>Res</td>\n",
       "      <td>negative</td>\n",
       "      <td>CULEX RESTUANS</td>\n",
       "      <td>41.987245</td>\n",
       "      <td>-87.689417</td>\n",
       "    </tr>\n",
       "    <tr>\n",
       "      <th>3</th>\n",
       "      <td>2019</td>\n",
       "      <td>39</td>\n",
       "      <td>39XX N SPRINGFIELD AVE</td>\n",
       "      <td>39</td>\n",
       "      <td>T228</td>\n",
       "      <td>GRAVID</td>\n",
       "      <td>2019-09-26 00:09:00</td>\n",
       "      <td>1</td>\n",
       "      <td>Res</td>\n",
       "      <td>negative</td>\n",
       "      <td>CULEX RESTUANS</td>\n",
       "      <td>41.953664</td>\n",
       "      <td>-87.724987</td>\n",
       "    </tr>\n",
       "    <tr>\n",
       "      <th>4</th>\n",
       "      <td>2019</td>\n",
       "      <td>39</td>\n",
       "      <td>131XX S BRANDON AVE</td>\n",
       "      <td>131</td>\n",
       "      <td>T209</td>\n",
       "      <td>GRAVID</td>\n",
       "      <td>2019-09-26 00:09:00</td>\n",
       "      <td>9</td>\n",
       "      <td>Res</td>\n",
       "      <td>negative</td>\n",
       "      <td>CULEX RESTUANS</td>\n",
       "      <td>41.657069</td>\n",
       "      <td>-87.546049</td>\n",
       "    </tr>\n",
       "  </tbody>\n",
       "</table>\n",
       "</div>"
      ],
      "text/plain": [
       "   Year  Week           Address Block  Block  Trap Trap type  \\\n",
       "0  2019    39   100XX W OHARE AIRPORT    100  T910    GRAVID   \n",
       "1  2019    39       52XX S KOLMAR AVE     52  T114    GRAVID   \n",
       "2  2019    39      58XX N WESTERN AVE     58  T028    GRAVID   \n",
       "3  2019    39  39XX N SPRINGFIELD AVE     39  T228    GRAVID   \n",
       "4  2019    39     131XX S BRANDON AVE    131  T209    GRAVID   \n",
       "\n",
       "                  Date  Mosquito number Mosquito ID WNV Present  \\\n",
       "0  2019-09-26 00:09:00                2         Res    negative   \n",
       "1  2019-09-26 00:09:00                1         Res    negative   \n",
       "2  2019-09-26 00:09:00                2         Res    negative   \n",
       "3  2019-09-26 00:09:00                1         Res    negative   \n",
       "4  2019-09-26 00:09:00                9         Res    negative   \n",
       "\n",
       "          Species        Lat        Lon  \n",
       "0  CULEX RESTUANS        NaN        NaN  \n",
       "1  CULEX RESTUANS  41.798211 -87.736925  \n",
       "2  CULEX RESTUANS  41.987245 -87.689417  \n",
       "3  CULEX RESTUANS  41.953664 -87.724987  \n",
       "4  CULEX RESTUANS  41.657069 -87.546049  "
      ]
     },
     "execution_count": 3,
     "metadata": {},
     "output_type": "execute_result"
    }
   ],
   "source": [
    "# read csv\n",
    "df = pd.read_csv('mosquito_data.csv')\n",
    "df.head()"
   ]
  },
  {
   "cell_type": "markdown",
   "id": "2e905d79",
   "metadata": {},
   "source": [
    "Next, we will begin to explore the data further starting with understanding the features provided"
   ]
  },
  {
   "cell_type": "code",
   "execution_count": 4,
   "id": "394b9aa0",
   "metadata": {},
   "outputs": [
    {
     "data": {
      "text/plain": [
       "(18495, 13)"
      ]
     },
     "execution_count": 4,
     "metadata": {},
     "output_type": "execute_result"
    }
   ],
   "source": [
    "# checking the dimensions of the dataset\n",
    "df.shape"
   ]
  },
  {
   "cell_type": "code",
   "execution_count": 5,
   "id": "007cd3cf",
   "metadata": {},
   "outputs": [
    {
     "name": "stdout",
     "output_type": "stream",
     "text": [
      "<class 'pandas.core.frame.DataFrame'>\n",
      "RangeIndex: 18495 entries, 0 to 18494\n",
      "Data columns (total 13 columns):\n",
      " #   Column           Non-Null Count  Dtype  \n",
      "---  ------           --------------  -----  \n",
      " 0   Year             18495 non-null  int64  \n",
      " 1   Week             18495 non-null  int64  \n",
      " 2   Address Block    18495 non-null  object \n",
      " 3   Block            18495 non-null  int64  \n",
      " 4   Trap             18495 non-null  object \n",
      " 5   Trap type        18495 non-null  object \n",
      " 6   Date             18495 non-null  object \n",
      " 7   Mosquito number  18495 non-null  int64  \n",
      " 8   Mosquito ID      18495 non-null  object \n",
      " 9   WNV Present      18495 non-null  object \n",
      " 10  Species          18495 non-null  object \n",
      " 11  Lat              15571 non-null  float64\n",
      " 12  Lon              15571 non-null  float64\n",
      "dtypes: float64(2), int64(4), object(7)\n",
      "memory usage: 1.8+ MB\n"
     ]
    }
   ],
   "source": [
    "# getting an overview of the dataset's columns\n",
    "df.info()"
   ]
  },
  {
   "cell_type": "markdown",
   "id": "0b3d9d06",
   "metadata": {},
   "source": [
    "The data provided consists of 18,495 rows and 13 columns, all of which have different data types. A snapshot of each column by data type is shown below:"
   ]
  },
  {
   "cell_type": "code",
   "execution_count": 6,
   "id": "15fe5804",
   "metadata": {},
   "outputs": [
    {
     "data": {
      "text/html": [
       "<div>\n",
       "<style scoped>\n",
       "    .dataframe tbody tr th:only-of-type {\n",
       "        vertical-align: middle;\n",
       "    }\n",
       "\n",
       "    .dataframe tbody tr th {\n",
       "        vertical-align: top;\n",
       "    }\n",
       "\n",
       "    .dataframe thead th {\n",
       "        text-align: right;\n",
       "    }\n",
       "</style>\n",
       "<table border=\"1\" class=\"dataframe\">\n",
       "  <thead>\n",
       "    <tr style=\"text-align: right;\">\n",
       "      <th></th>\n",
       "      <th>Address Block</th>\n",
       "      <th>Trap</th>\n",
       "      <th>Trap type</th>\n",
       "      <th>Date</th>\n",
       "      <th>Mosquito ID</th>\n",
       "      <th>WNV Present</th>\n",
       "      <th>Species</th>\n",
       "    </tr>\n",
       "  </thead>\n",
       "  <tbody>\n",
       "    <tr>\n",
       "      <th>0</th>\n",
       "      <td>100XX W OHARE AIRPORT</td>\n",
       "      <td>T910</td>\n",
       "      <td>GRAVID</td>\n",
       "      <td>2019-09-26 00:09:00</td>\n",
       "      <td>Res</td>\n",
       "      <td>negative</td>\n",
       "      <td>CULEX RESTUANS</td>\n",
       "    </tr>\n",
       "    <tr>\n",
       "      <th>1</th>\n",
       "      <td>52XX S KOLMAR AVE</td>\n",
       "      <td>T114</td>\n",
       "      <td>GRAVID</td>\n",
       "      <td>2019-09-26 00:09:00</td>\n",
       "      <td>Res</td>\n",
       "      <td>negative</td>\n",
       "      <td>CULEX RESTUANS</td>\n",
       "    </tr>\n",
       "    <tr>\n",
       "      <th>2</th>\n",
       "      <td>58XX N WESTERN AVE</td>\n",
       "      <td>T028</td>\n",
       "      <td>GRAVID</td>\n",
       "      <td>2019-09-26 00:09:00</td>\n",
       "      <td>Res</td>\n",
       "      <td>negative</td>\n",
       "      <td>CULEX RESTUANS</td>\n",
       "    </tr>\n",
       "    <tr>\n",
       "      <th>3</th>\n",
       "      <td>39XX N SPRINGFIELD AVE</td>\n",
       "      <td>T228</td>\n",
       "      <td>GRAVID</td>\n",
       "      <td>2019-09-26 00:09:00</td>\n",
       "      <td>Res</td>\n",
       "      <td>negative</td>\n",
       "      <td>CULEX RESTUANS</td>\n",
       "    </tr>\n",
       "    <tr>\n",
       "      <th>4</th>\n",
       "      <td>131XX S BRANDON AVE</td>\n",
       "      <td>T209</td>\n",
       "      <td>GRAVID</td>\n",
       "      <td>2019-09-26 00:09:00</td>\n",
       "      <td>Res</td>\n",
       "      <td>negative</td>\n",
       "      <td>CULEX RESTUANS</td>\n",
       "    </tr>\n",
       "  </tbody>\n",
       "</table>\n",
       "</div>"
      ],
      "text/plain": [
       "            Address Block  Trap Trap type                 Date Mosquito ID  \\\n",
       "0   100XX W OHARE AIRPORT  T910    GRAVID  2019-09-26 00:09:00         Res   \n",
       "1       52XX S KOLMAR AVE  T114    GRAVID  2019-09-26 00:09:00         Res   \n",
       "2      58XX N WESTERN AVE  T028    GRAVID  2019-09-26 00:09:00         Res   \n",
       "3  39XX N SPRINGFIELD AVE  T228    GRAVID  2019-09-26 00:09:00         Res   \n",
       "4     131XX S BRANDON AVE  T209    GRAVID  2019-09-26 00:09:00         Res   \n",
       "\n",
       "  WNV Present         Species  \n",
       "0    negative  CULEX RESTUANS  \n",
       "1    negative  CULEX RESTUANS  \n",
       "2    negative  CULEX RESTUANS  \n",
       "3    negative  CULEX RESTUANS  \n",
       "4    negative  CULEX RESTUANS  "
      ]
     },
     "execution_count": 6,
     "metadata": {},
     "output_type": "execute_result"
    }
   ],
   "source": [
    "# top rows for 'object' type only columns\n",
    "df.select_dtypes('object').head()"
   ]
  },
  {
   "cell_type": "code",
   "execution_count": 7,
   "id": "30ed00d6",
   "metadata": {},
   "outputs": [
    {
     "data": {
      "text/html": [
       "<div>\n",
       "<style scoped>\n",
       "    .dataframe tbody tr th:only-of-type {\n",
       "        vertical-align: middle;\n",
       "    }\n",
       "\n",
       "    .dataframe tbody tr th {\n",
       "        vertical-align: top;\n",
       "    }\n",
       "\n",
       "    .dataframe thead th {\n",
       "        text-align: right;\n",
       "    }\n",
       "</style>\n",
       "<table border=\"1\" class=\"dataframe\">\n",
       "  <thead>\n",
       "    <tr style=\"text-align: right;\">\n",
       "      <th></th>\n",
       "      <th>Year</th>\n",
       "      <th>Week</th>\n",
       "      <th>Block</th>\n",
       "      <th>Mosquito number</th>\n",
       "    </tr>\n",
       "  </thead>\n",
       "  <tbody>\n",
       "    <tr>\n",
       "      <th>0</th>\n",
       "      <td>2019</td>\n",
       "      <td>39</td>\n",
       "      <td>100</td>\n",
       "      <td>2</td>\n",
       "    </tr>\n",
       "    <tr>\n",
       "      <th>1</th>\n",
       "      <td>2019</td>\n",
       "      <td>39</td>\n",
       "      <td>52</td>\n",
       "      <td>1</td>\n",
       "    </tr>\n",
       "    <tr>\n",
       "      <th>2</th>\n",
       "      <td>2019</td>\n",
       "      <td>39</td>\n",
       "      <td>58</td>\n",
       "      <td>2</td>\n",
       "    </tr>\n",
       "    <tr>\n",
       "      <th>3</th>\n",
       "      <td>2019</td>\n",
       "      <td>39</td>\n",
       "      <td>39</td>\n",
       "      <td>1</td>\n",
       "    </tr>\n",
       "    <tr>\n",
       "      <th>4</th>\n",
       "      <td>2019</td>\n",
       "      <td>39</td>\n",
       "      <td>131</td>\n",
       "      <td>9</td>\n",
       "    </tr>\n",
       "  </tbody>\n",
       "</table>\n",
       "</div>"
      ],
      "text/plain": [
       "   Year  Week  Block  Mosquito number\n",
       "0  2019    39    100                2\n",
       "1  2019    39     52                1\n",
       "2  2019    39     58                2\n",
       "3  2019    39     39                1\n",
       "4  2019    39    131                9"
      ]
     },
     "execution_count": 7,
     "metadata": {},
     "output_type": "execute_result"
    }
   ],
   "source": [
    "# top rows for 'int' type only columns\n",
    "df.select_dtypes('int').head()"
   ]
  },
  {
   "cell_type": "code",
   "execution_count": 8,
   "id": "95194d77",
   "metadata": {},
   "outputs": [
    {
     "data": {
      "text/html": [
       "<div>\n",
       "<style scoped>\n",
       "    .dataframe tbody tr th:only-of-type {\n",
       "        vertical-align: middle;\n",
       "    }\n",
       "\n",
       "    .dataframe tbody tr th {\n",
       "        vertical-align: top;\n",
       "    }\n",
       "\n",
       "    .dataframe thead th {\n",
       "        text-align: right;\n",
       "    }\n",
       "</style>\n",
       "<table border=\"1\" class=\"dataframe\">\n",
       "  <thead>\n",
       "    <tr style=\"text-align: right;\">\n",
       "      <th></th>\n",
       "      <th>Lat</th>\n",
       "      <th>Lon</th>\n",
       "    </tr>\n",
       "  </thead>\n",
       "  <tbody>\n",
       "    <tr>\n",
       "      <th>0</th>\n",
       "      <td>NaN</td>\n",
       "      <td>NaN</td>\n",
       "    </tr>\n",
       "    <tr>\n",
       "      <th>1</th>\n",
       "      <td>41.798211</td>\n",
       "      <td>-87.736925</td>\n",
       "    </tr>\n",
       "    <tr>\n",
       "      <th>2</th>\n",
       "      <td>41.987245</td>\n",
       "      <td>-87.689417</td>\n",
       "    </tr>\n",
       "    <tr>\n",
       "      <th>3</th>\n",
       "      <td>41.953664</td>\n",
       "      <td>-87.724987</td>\n",
       "    </tr>\n",
       "    <tr>\n",
       "      <th>4</th>\n",
       "      <td>41.657069</td>\n",
       "      <td>-87.546049</td>\n",
       "    </tr>\n",
       "  </tbody>\n",
       "</table>\n",
       "</div>"
      ],
      "text/plain": [
       "         Lat        Lon\n",
       "0        NaN        NaN\n",
       "1  41.798211 -87.736925\n",
       "2  41.987245 -87.689417\n",
       "3  41.953664 -87.724987\n",
       "4  41.657069 -87.546049"
      ]
     },
     "execution_count": 8,
     "metadata": {},
     "output_type": "execute_result"
    }
   ],
   "source": [
    "# top rows for 'float' type only columns\n",
    "df.select_dtypes('float').head()"
   ]
  },
  {
   "cell_type": "markdown",
   "id": "5a6638bc",
   "metadata": {},
   "source": [
    "Since the date provided in the data is currently in 'string' format, we will need to convert it to datetime format"
   ]
  },
  {
   "cell_type": "code",
   "execution_count": 9,
   "id": "6148cd29",
   "metadata": {},
   "outputs": [
    {
     "data": {
      "text/plain": [
       "str"
      ]
     },
     "execution_count": 9,
     "metadata": {},
     "output_type": "execute_result"
    }
   ],
   "source": [
    "type(df['Date'][0])"
   ]
  },
  {
   "cell_type": "code",
   "execution_count": 10,
   "id": "8c14dd30",
   "metadata": {},
   "outputs": [
    {
     "data": {
      "text/plain": [
       "pandas._libs.tslibs.timestamps.Timestamp"
      ]
     },
     "execution_count": 10,
     "metadata": {},
     "output_type": "execute_result"
    }
   ],
   "source": [
    "df['Date'] = pd.to_datetime(df['Date'])\n",
    "type(df['Date'][0])"
   ]
  },
  {
   "cell_type": "markdown",
   "id": "b720ea64",
   "metadata": {},
   "source": [
    "The 'Block' column seems redundant as it is already represented in the 'Address Block' column. We will go ahead and remove it from our dataframe."
   ]
  },
  {
   "cell_type": "code",
   "execution_count": 11,
   "id": "27ce3dbc",
   "metadata": {},
   "outputs": [],
   "source": [
    "df.drop(columns='Block', inplace=True)"
   ]
  },
  {
   "cell_type": "markdown",
   "id": "1588a9b5",
   "metadata": {},
   "source": [
    "Next, we will look at more details about each of the columns availabe:"
   ]
  },
  {
   "cell_type": "code",
   "execution_count": 15,
   "id": "0f085ae2",
   "metadata": {},
   "outputs": [
    {
     "name": "stderr",
     "output_type": "stream",
     "text": [
      "/var/folders/hv/t_gjznjj49ddynn53nsvvxnc0000gn/T/ipykernel_59907/4220128335.py:1: FutureWarning: Treating datetime data as categorical rather than numeric in `.describe` is deprecated and will be removed in a future version of pandas. Specify `datetime_is_numeric=True` to silence this warning and adopt the future behavior now.\n",
      "  df.describe(include = 'all')\n"
     ]
    },
    {
     "data": {
      "text/html": [
       "<div>\n",
       "<style scoped>\n",
       "    .dataframe tbody tr th:only-of-type {\n",
       "        vertical-align: middle;\n",
       "    }\n",
       "\n",
       "    .dataframe tbody tr th {\n",
       "        vertical-align: top;\n",
       "    }\n",
       "\n",
       "    .dataframe thead th {\n",
       "        text-align: right;\n",
       "    }\n",
       "</style>\n",
       "<table border=\"1\" class=\"dataframe\">\n",
       "  <thead>\n",
       "    <tr style=\"text-align: right;\">\n",
       "      <th></th>\n",
       "      <th>Year</th>\n",
       "      <th>Week</th>\n",
       "      <th>Address Block</th>\n",
       "      <th>Trap</th>\n",
       "      <th>Trap type</th>\n",
       "      <th>Date</th>\n",
       "      <th>Mosquito number</th>\n",
       "      <th>Mosquito ID</th>\n",
       "      <th>WNV Present</th>\n",
       "      <th>Species</th>\n",
       "      <th>Lat</th>\n",
       "      <th>Lon</th>\n",
       "    </tr>\n",
       "  </thead>\n",
       "  <tbody>\n",
       "    <tr>\n",
       "      <th>count</th>\n",
       "      <td>18495.000000</td>\n",
       "      <td>18495.000000</td>\n",
       "      <td>18495</td>\n",
       "      <td>18495</td>\n",
       "      <td>18495</td>\n",
       "      <td>18495</td>\n",
       "      <td>18495.000000</td>\n",
       "      <td>18495</td>\n",
       "      <td>18495</td>\n",
       "      <td>18495</td>\n",
       "      <td>15571.000000</td>\n",
       "      <td>15571.000000</td>\n",
       "    </tr>\n",
       "    <tr>\n",
       "      <th>unique</th>\n",
       "      <td>NaN</td>\n",
       "      <td>NaN</td>\n",
       "      <td>154</td>\n",
       "      <td>190</td>\n",
       "      <td>4</td>\n",
       "      <td>298</td>\n",
       "      <td>NaN</td>\n",
       "      <td>4</td>\n",
       "      <td>2</td>\n",
       "      <td>4</td>\n",
       "      <td>NaN</td>\n",
       "      <td>NaN</td>\n",
       "    </tr>\n",
       "    <tr>\n",
       "      <th>top</th>\n",
       "      <td>NaN</td>\n",
       "      <td>NaN</td>\n",
       "      <td>100XX W OHARE AIRPORT</td>\n",
       "      <td>T002</td>\n",
       "      <td>GRAVID</td>\n",
       "      <td>2016-08-11 00:08:00</td>\n",
       "      <td>NaN</td>\n",
       "      <td>Res</td>\n",
       "      <td>negative</td>\n",
       "      <td>CULEX RESTUANS</td>\n",
       "      <td>NaN</td>\n",
       "      <td>NaN</td>\n",
       "    </tr>\n",
       "    <tr>\n",
       "      <th>freq</th>\n",
       "      <td>NaN</td>\n",
       "      <td>NaN</td>\n",
       "      <td>2039</td>\n",
       "      <td>406</td>\n",
       "      <td>17741</td>\n",
       "      <td>244</td>\n",
       "      <td>NaN</td>\n",
       "      <td>11866</td>\n",
       "      <td>14501</td>\n",
       "      <td>11866</td>\n",
       "      <td>NaN</td>\n",
       "      <td>NaN</td>\n",
       "    </tr>\n",
       "    <tr>\n",
       "      <th>first</th>\n",
       "      <td>NaN</td>\n",
       "      <td>NaN</td>\n",
       "      <td>NaN</td>\n",
       "      <td>NaN</td>\n",
       "      <td>NaN</td>\n",
       "      <td>2007-05-29 00:05:00</td>\n",
       "      <td>NaN</td>\n",
       "      <td>NaN</td>\n",
       "      <td>NaN</td>\n",
       "      <td>NaN</td>\n",
       "      <td>NaN</td>\n",
       "      <td>NaN</td>\n",
       "    </tr>\n",
       "    <tr>\n",
       "      <th>last</th>\n",
       "      <td>NaN</td>\n",
       "      <td>NaN</td>\n",
       "      <td>NaN</td>\n",
       "      <td>NaN</td>\n",
       "      <td>NaN</td>\n",
       "      <td>2019-09-26 00:09:00</td>\n",
       "      <td>NaN</td>\n",
       "      <td>NaN</td>\n",
       "      <td>NaN</td>\n",
       "      <td>NaN</td>\n",
       "      <td>NaN</td>\n",
       "      <td>NaN</td>\n",
       "    </tr>\n",
       "    <tr>\n",
       "      <th>mean</th>\n",
       "      <td>2012.905812</td>\n",
       "      <td>31.004001</td>\n",
       "      <td>NaN</td>\n",
       "      <td>NaN</td>\n",
       "      <td>NaN</td>\n",
       "      <td>NaN</td>\n",
       "      <td>10.879913</td>\n",
       "      <td>NaN</td>\n",
       "      <td>NaN</td>\n",
       "      <td>NaN</td>\n",
       "      <td>41.839963</td>\n",
       "      <td>-87.691642</td>\n",
       "    </tr>\n",
       "    <tr>\n",
       "      <th>std</th>\n",
       "      <td>3.725857</td>\n",
       "      <td>4.332020</td>\n",
       "      <td>NaN</td>\n",
       "      <td>NaN</td>\n",
       "      <td>NaN</td>\n",
       "      <td>NaN</td>\n",
       "      <td>13.475066</td>\n",
       "      <td>NaN</td>\n",
       "      <td>NaN</td>\n",
       "      <td>NaN</td>\n",
       "      <td>0.111374</td>\n",
       "      <td>0.076545</td>\n",
       "    </tr>\n",
       "    <tr>\n",
       "      <th>min</th>\n",
       "      <td>2007.000000</td>\n",
       "      <td>20.000000</td>\n",
       "      <td>NaN</td>\n",
       "      <td>NaN</td>\n",
       "      <td>NaN</td>\n",
       "      <td>NaN</td>\n",
       "      <td>1.000000</td>\n",
       "      <td>NaN</td>\n",
       "      <td>NaN</td>\n",
       "      <td>NaN</td>\n",
       "      <td>41.644720</td>\n",
       "      <td>-87.854473</td>\n",
       "    </tr>\n",
       "    <tr>\n",
       "      <th>25%</th>\n",
       "      <td>2010.000000</td>\n",
       "      <td>28.000000</td>\n",
       "      <td>NaN</td>\n",
       "      <td>NaN</td>\n",
       "      <td>NaN</td>\n",
       "      <td>NaN</td>\n",
       "      <td>2.000000</td>\n",
       "      <td>NaN</td>\n",
       "      <td>NaN</td>\n",
       "      <td>NaN</td>\n",
       "      <td>41.742670</td>\n",
       "      <td>-87.747459</td>\n",
       "    </tr>\n",
       "    <tr>\n",
       "      <th>50%</th>\n",
       "      <td>2013.000000</td>\n",
       "      <td>31.000000</td>\n",
       "      <td>NaN</td>\n",
       "      <td>NaN</td>\n",
       "      <td>NaN</td>\n",
       "      <td>NaN</td>\n",
       "      <td>5.000000</td>\n",
       "      <td>NaN</td>\n",
       "      <td>NaN</td>\n",
       "      <td>NaN</td>\n",
       "      <td>41.845715</td>\n",
       "      <td>-87.691698</td>\n",
       "    </tr>\n",
       "    <tr>\n",
       "      <th>75%</th>\n",
       "      <td>2016.000000</td>\n",
       "      <td>34.000000</td>\n",
       "      <td>NaN</td>\n",
       "      <td>NaN</td>\n",
       "      <td>NaN</td>\n",
       "      <td>NaN</td>\n",
       "      <td>14.000000</td>\n",
       "      <td>NaN</td>\n",
       "      <td>NaN</td>\n",
       "      <td>NaN</td>\n",
       "      <td>41.945961</td>\n",
       "      <td>-87.637873</td>\n",
       "    </tr>\n",
       "    <tr>\n",
       "      <th>max</th>\n",
       "      <td>2019.000000</td>\n",
       "      <td>40.000000</td>\n",
       "      <td>NaN</td>\n",
       "      <td>NaN</td>\n",
       "      <td>NaN</td>\n",
       "      <td>NaN</td>\n",
       "      <td>50.000000</td>\n",
       "      <td>NaN</td>\n",
       "      <td>NaN</td>\n",
       "      <td>NaN</td>\n",
       "      <td>42.017801</td>\n",
       "      <td>-87.531051</td>\n",
       "    </tr>\n",
       "  </tbody>\n",
       "</table>\n",
       "</div>"
      ],
      "text/plain": [
       "                Year          Week          Address Block   Trap Trap type  \\\n",
       "count   18495.000000  18495.000000                  18495  18495     18495   \n",
       "unique           NaN           NaN                    154    190         4   \n",
       "top              NaN           NaN  100XX W OHARE AIRPORT   T002    GRAVID   \n",
       "freq             NaN           NaN                   2039    406     17741   \n",
       "first            NaN           NaN                    NaN    NaN       NaN   \n",
       "last             NaN           NaN                    NaN    NaN       NaN   \n",
       "mean     2012.905812     31.004001                    NaN    NaN       NaN   \n",
       "std         3.725857      4.332020                    NaN    NaN       NaN   \n",
       "min      2007.000000     20.000000                    NaN    NaN       NaN   \n",
       "25%      2010.000000     28.000000                    NaN    NaN       NaN   \n",
       "50%      2013.000000     31.000000                    NaN    NaN       NaN   \n",
       "75%      2016.000000     34.000000                    NaN    NaN       NaN   \n",
       "max      2019.000000     40.000000                    NaN    NaN       NaN   \n",
       "\n",
       "                       Date  Mosquito number Mosquito ID WNV Present  \\\n",
       "count                 18495     18495.000000       18495       18495   \n",
       "unique                  298              NaN           4           2   \n",
       "top     2016-08-11 00:08:00              NaN         Res    negative   \n",
       "freq                    244              NaN       11866       14501   \n",
       "first   2007-05-29 00:05:00              NaN         NaN         NaN   \n",
       "last    2019-09-26 00:09:00              NaN         NaN         NaN   \n",
       "mean                    NaN        10.879913         NaN         NaN   \n",
       "std                     NaN        13.475066         NaN         NaN   \n",
       "min                     NaN         1.000000         NaN         NaN   \n",
       "25%                     NaN         2.000000         NaN         NaN   \n",
       "50%                     NaN         5.000000         NaN         NaN   \n",
       "75%                     NaN        14.000000         NaN         NaN   \n",
       "max                     NaN        50.000000         NaN         NaN   \n",
       "\n",
       "               Species           Lat           Lon  \n",
       "count            18495  15571.000000  15571.000000  \n",
       "unique               4           NaN           NaN  \n",
       "top     CULEX RESTUANS           NaN           NaN  \n",
       "freq             11866           NaN           NaN  \n",
       "first              NaN           NaN           NaN  \n",
       "last               NaN           NaN           NaN  \n",
       "mean               NaN     41.839963    -87.691642  \n",
       "std                NaN      0.111374      0.076545  \n",
       "min                NaN     41.644720    -87.854473  \n",
       "25%                NaN     41.742670    -87.747459  \n",
       "50%                NaN     41.845715    -87.691698  \n",
       "75%                NaN     41.945961    -87.637873  \n",
       "max                NaN     42.017801    -87.531051  "
      ]
     },
     "execution_count": 15,
     "metadata": {},
     "output_type": "execute_result"
    }
   ],
   "source": [
    "df.describe(include = 'all')"
   ]
  },
  {
   "cell_type": "markdown",
   "id": "71b0dfb9",
   "metadata": {},
   "source": [
    "From the table above, we can see that the data was collected between 2007 to 2019. The data was also not collected all-year round, instead, it was collected only between the 20th and 40th weeks of the years sampled (i.e between May - October). Other noteworthy points include:"
   ]
  },
  {
   "cell_type": "markdown",
   "id": "5d572062",
   "metadata": {},
   "source": [
    "* Out of all the locations sampled, most samples were collected from 100XX W OHARE AIRPORT.\n",
    "* 4 unique trap types were used, of which GRAVID type was the most frequently used.\n",
    "* Although the number of mosquitoes collected at a time ranged from 1 to 50, the average number observed was 10.9.\n",
    "* The dataset is also not balanced regarding the presence of WNV. Most of the mosquitoes collected were WNV Negative compared to Positive.\n",
    "* CULEX RESTUANS species was the most observed out of the 4 total unique species observed\n",
    "* Based on the count of Latitude & Longitude provided, both columns are incomplete."
   ]
  },
  {
   "cell_type": "markdown",
   "id": "e295b4ed",
   "metadata": {},
   "source": [
    "Two categorical columns we can explore further are 'WNV Present' & 'Species'"
   ]
  },
  {
   "cell_type": "code",
   "execution_count": 16,
   "id": "71739c5a",
   "metadata": {},
   "outputs": [
    {
     "data": {
      "image/png": "[encoded data removed]",
      "text/plain": [
       "<Figure size 720x576 with 2 Axes>"
      ]
     },
     "metadata": {},
     "output_type": "display_data"
    }
   ],
   "source": [
    "categ_columns = ['WNV Present','Species']\n",
    "\n",
    "# plotting the breakdown of our data by WNV Presence & Mosquito Species\n",
    "\n",
    "plt.subplots(1,2,figsize=(10,8))\n",
    "plot_num=1\n",
    "\n",
    "for column in categ_columns:\n",
    "    \n",
    "    plt.subplot(1,2,plot_num)\n",
    "    df.groupby(column)[column].count().sort_values().plot(kind = 'bar')\n",
    "    plt.rcParams['font.size'] = 20\n",
    "    plt.title('Breakdown by - '+ column)\n",
    "    plt.xlabel(column)\n",
    "    plt.ylabel('Count')\n",
    "    plt.legend()\n",
    "    plot_num +=1\n",
    "\n",
    "plt.tight_layout()\n",
    "plt.show()"
   ]
  },
  {
   "cell_type": "code",
   "execution_count": 17,
   "id": "c7e8f9b0",
   "metadata": {},
   "outputs": [
    {
     "data": {
      "image/png": "[encoded data removed]",
      "text/plain": [
       "<Figure size 720x576 with 2 Axes>"
      ]
     },
     "metadata": {},
     "output_type": "display_data"
    }
   ],
   "source": [
    "# plotting the breakdown of our data by WNV Presence & Mosquito Species observed on a normalized scale\n",
    "\n",
    "plt.subplots(1,2,figsize=(10,8))\n",
    "plot_num2=1\n",
    "for column in categ_columns:\n",
    "    \n",
    "    plt.subplot(1,2,plot_num2)\n",
    "    df[column].value_counts(normalize = True).sort_values().plot(kind = 'bar')\n",
    "    plt.rcParams['font.size'] = 17\n",
    "    plt.title('Breakdown by - '+ column)\n",
    "    plt.xlabel(column)\n",
    "    plt.ylabel('Count')\n",
    "    plt.legend()\n",
    "    plot_num2 +=1\n",
    "\n",
    "plt.tight_layout()\n",
    "plt.show()"
   ]
  },
  {
   "cell_type": "markdown",
   "id": "a9f90f3a",
   "metadata": {},
   "source": [
    "As seen above, 78% of the mosquitoes collected during the study tested negative for WNV compared to 22% which tested negative. This means that there were almost 4 times more WNV negative cases within our data compared to positive cases.\n",
    "\n",
    "CULEX RESTUANS represents 64% of the mosquito sample collected around the city. This was the most observed mosquitoes Species, followed by CULEX PIPIENS which represented 30% of the sample. CULEX TERRITANS & CULEX SALINARIUS were the least observed Species and represent only 6% of the data."
   ]
  },
  {
   "cell_type": "markdown",
   "id": "26cc0c2b",
   "metadata": {},
   "source": [
    "Two numeric columns we can explore further are 'Week' & 'Mosquito number'"
   ]
  },
  {
   "cell_type": "code",
   "execution_count": 18,
   "id": "4621ac30",
   "metadata": {},
   "outputs": [
    {
     "data": {
      "image/png": "[encoded data removed]",
      "text/plain": [
       "<Figure size 1152x576 with 1 Axes>"
      ]
     },
     "metadata": {},
     "output_type": "display_data"
    }
   ],
   "source": [
    "# plotting the distribution of the 'Week' column\n",
    "plt.figure(figsize=(16, 8))\n",
    "sns.histplot(x = df['Week'], bins = 21)\n",
    "plt.axvline(df['Week'].mode()[0], color = \"black\")\n",
    "plt.axvline(df['Week'].median(), color = \"red\", linestyle = '--')\n",
    "plt.title('Distribution of weeks over which samples were collected')\n",
    "plt.xlabel(column)\n",
    "plt.ylabel('Count')\n",
    "plt.legend(labels = ['Mode', 'Median'])\n",
    "plt.rcParams['font.size'] = 15\n",
    "plt.show()"
   ]
  },
  {
   "cell_type": "markdown",
   "id": "96f36afc",
   "metadata": {},
   "source": [
    "The week number ranges from 20 to 40 which corresponds with the months of May to September.\n",
    "\n",
    "Week 20-22: May\n",
    "\n",
    "Week 22-35: June, July, August\n",
    "\n",
    "Week 36-40: September\n",
    "\n",
    "\n",
    "From the plot above, the distribution of the data in the 'Week' column is normally distributed. We can see that more mosquito samples were collected during the mid point of the sampling period (July - August) while less samples were collected at the tail ends (May/September). This is expected seeing as this period is when the city also experiences higher temperatures and rainfaill."
   ]
  },
  {
   "cell_type": "code",
   "execution_count": 19,
   "id": "c062d87f",
   "metadata": {},
   "outputs": [
    {
     "data": {
      "image/png": "[encoded data removed]",
      "text/plain": [
       "<Figure size 1152x576 with 1 Axes>"
      ]
     },
     "metadata": {},
     "output_type": "display_data"
    }
   ],
   "source": [
    "# plotting the distribution of the 'Mosquito number' column\n",
    "plt.figure(figsize=(16, 8))\n",
    "sns.histplot(x = df['Mosquito number'], bins = 25)\n",
    "plt.axvline(df['Mosquito number'].mode()[0], color = \"black\")\n",
    "plt.axvline(df['Mosquito number'].mean(), color = \"red\")\n",
    "plt.axvline(df['Mosquito number'].median(), color = \"red\", linestyle = '--')\n",
    "plt.title('Distribution of Number of Mosquitos Caught')\n",
    "plt.legend(labels = ['Mode','Mean', 'Median'])\n",
    "plt.rcParams['font.size'] = 15\n",
    "plt.show()"
   ]
  },
  {
   "cell_type": "markdown",
   "id": "7e1f1243",
   "metadata": {},
   "source": [
    "From the plot above, we can see that the distribution of 'Mosquito number' is not normally distributed rather it is skewed to the right. It shows that a small number of mosquito samples (less than 4) were typically collected in each trap for more about 50% of the samples."
   ]
  },
  {
   "cell_type": "markdown",
   "id": "692d44e2",
   "metadata": {},
   "source": [
    "## Checking for null values "
   ]
  },
  {
   "cell_type": "code",
   "execution_count": null,
   "id": "fb7c2d33",
   "metadata": {},
   "outputs": [],
   "source": [
    "df.isna().sum(axis = 0)"
   ]
  },
  {
   "cell_type": "markdown",
   "id": "b8c49300",
   "metadata": {},
   "source": [
    "We are missing 2924 rows of longitude & latitude data. We will try to populate the missing data using longitude & latitude of nearby addresses within our dataframe."
   ]
  },
  {
   "cell_type": "markdown",
   "id": "e6f727a7",
   "metadata": {},
   "source": [
    "First, here are the unique streets we are missing longitude and latitude for:"
   ]
  },
  {
   "cell_type": "code",
   "execution_count": null,
   "id": "ec04efe9",
   "metadata": {},
   "outputs": [],
   "source": [
    "# Take unique rows where 'Lat' is null\n",
    "missing_coords = pd.DataFrame(df[pd.isnull(df[\"Lat\"])][\"Address Block\"].unique())\n",
    "\n",
    "# Adding only the street name as a separate column\n",
    "street = []\n",
    "for i in range(0,len(missing_coords)):\n",
    "    x = missing_coords[0][i].split(\" \")\n",
    "    street.append(x[1] + \" \" + x[2])\n",
    "\n",
    "missing_coords[\"street\"] = street\n",
    "missing_coords"
   ]
  },
  {
   "cell_type": "markdown",
   "id": "cf9b2ccd",
   "metadata": {},
   "source": [
    "Next, we will search our dataframe for rows matching the unique street names above. Then we will take the Longitude & Latitude of the closest address."
   ]
  },
  {
   "cell_type": "code",
   "execution_count": null,
   "id": "6877e142",
   "metadata": {},
   "outputs": [],
   "source": [
    "# Take rows where 'Lat' is not null as our available coordinates\n",
    "available_coords = pd.DataFrame(df[~pd.isnull(df[\"Lat\"])][[\"Address Block\", \"Lat\", \"Lon\"]])\n",
    "\n",
    "closestAddress = []\n",
    "closestLatitude = []\n",
    "closestLongitude = []\n",
    "\n",
    "# If street name in the available coordinates dataframe matches any of the street names in the missing coordinates\n",
    "# dataframe, then take the first address returned as the closest.\n",
    "\n",
    "for i in range(0,len(missing_coords)):\n",
    "    streetname = missing_coords[\"street\"][i]\n",
    "    matching_recs = pd.DataFrame(available_coords[available_coords[\"Address Block\"].str.contains(streetname)])\n",
    "    if matching_recs.empty: # If no nearby address found, append NaN, else append nearest address\n",
    "        closestLatitude.append(np.nan)\n",
    "        closestLongitude.append(np.nan)\n",
    "        closestAddress.append(np.nan)\n",
    "    else:\n",
    "        closestLatitude.append(matching_recs.iloc[0][\"Lat\"])\n",
    "        closestLongitude.append(matching_recs.iloc[0][\"Lon\"])\n",
    "        closestAddress.append(matching_recs.iloc[0][\"Address Block\"])\n",
    "\n",
    "missing_coords[\"Closest Address\"] = pd.DataFrame(closestAddress)\n",
    "missing_coords[\"Lat\"] = pd.DataFrame(closestLatitude)\n",
    "missing_coords[\"Lon\"] = pd.DataFrame(closestLongitude)\n",
    "missing_coords"
   ]
  },
  {
   "cell_type": "markdown",
   "id": "3c3e3752",
   "metadata": {},
   "source": [
    "It looks like we are still missing coordinates for 3 distinct streets. Since the missing data is few, we can manually input the missing coordinates found on Google:\n",
    "- W OHARE AIRPORT: [41.9741625, -87.9073214]\n",
    "- S CHICAGO: [41.7345874, -87.5513222]\n",
    "- S AVENUE: [41.709293, -87.5315843]\n",
    "\n",
    "Next, we can add the new data into the original dataframe."
   ]
  },
  {
   "cell_type": "code",
   "execution_count": null,
   "id": "177e18bd",
   "metadata": {},
   "outputs": [],
   "source": [
    "missing_data = {'street': ['W OHARE', 'S CHICAGO', 'S AVENUE'],\n",
    "                'Lat': [41.9741625, 41.7345874, 41.709293],\n",
    "                'Lon': [-87.9073214, -87.5513222, -87.5315843]}\n",
    "\n",
    "missing_data = pd.DataFrame.from_dict(missing_data)\n",
    "\n",
    "# use missing_data to populate rows missing_coords in where Lon & Lat are NaN\n",
    "for i in range(0,len(missing_coords)):\n",
    "    if str(missing_coords[\"Closest Address\"][i]) == 'nan':\n",
    "        for j in range(0,len(missing_data)):\n",
    "            if missing_data[\"street\"][j] == missing_coords[\"street\"][i]:\n",
    "                missing_coords[\"Lat\"].iloc[i] = missing_data[\"Lat\"][j]\n",
    "                missing_coords[\"Lon\"].iloc[i] = missing_data[\"Lon\"][j]\n",
    "            else:\n",
    "                pass\n",
    "\n",
    "missing_coords"
   ]
  },
  {
   "cell_type": "code",
   "execution_count": null,
   "id": "a24cda00",
   "metadata": {},
   "outputs": [],
   "source": [
    "# use missing_coords to populate rows in our original dataframe where Lon & Lat are NaN\n",
    "for i in range(0,len(df)):\n",
    "    if str(df[\"Lat\"][i]) == 'nan':\n",
    "        for j in range(0,len(missing_coords)):\n",
    "            if missing_coords[0][j] == df[\"Address Block\"][i]:\n",
    "                df[\"Lat\"].iloc[i] = missing_coords[\"Lat\"][j]\n",
    "                df[\"Lon\"].iloc[i] = missing_coords[\"Lon\"][j]\n",
    "            else:\n",
    "                pass\n",
    "\n",
    "df.head()"
   ]
  },
  {
   "cell_type": "code",
   "execution_count": null,
   "id": "c8d1d62d",
   "metadata": {},
   "outputs": [],
   "source": [
    "df.isna().sum(axis = 0)"
   ]
  },
  {
   "cell_type": "markdown",
   "id": "f632061c",
   "metadata": {},
   "source": [
    "As seen above, there are no more null values in our dataframe"
   ]
  },
  {
   "cell_type": "markdown",
   "id": "9d8ddd76",
   "metadata": {},
   "source": [
    "## Exploratory Data Analysis"
   ]
  },
  {
   "cell_type": "markdown",
   "id": "1442e563",
   "metadata": {},
   "source": [
    "Using the cleaned data, we can now use different plots to further explore our dataset. First, we can look at the relationship between mosquito number and date to understand how the number of mosquitos changed over the years."
   ]
  },
  {
   "cell_type": "markdown",
   "id": "4cf41b12",
   "metadata": {},
   "source": [
    "### Mosquito Number Variation over Time"
   ]
  },
  {
   "cell_type": "code",
   "execution_count": null,
   "id": "65ebe737",
   "metadata": {},
   "outputs": [],
   "source": [
    "# plot mosquito number as a time series\n",
    "sns.set_style('white')\n",
    "\n",
    "plt.figure(figsize=(16, 8))\n",
    "sns.lineplot(x = df['Date'], y = df['Mosquito number'], data=df)\n",
    "plt.rcParams['font.size'] = 12\n",
    "plt.xlabel('Date')\n",
    "plt.ylabel('Mosquito Number')\n",
    "plt.title('Mosquito Numbers Observed in Chicago, IL Between 2007 - 2019')\n",
    "plt.show()"
   ]
  },
  {
   "cell_type": "markdown",
   "id": "aed24a04",
   "metadata": {},
   "source": [
    "From the plot above, we can see that the number of mosquitoes observed moved in cycles throughout the years. There are prominenet peaks for numbers observed for each year.\n",
    "\n",
    "To understand how the mosquito numbers varied by week when the data is aggregated for all the years:"
   ]
  },
  {
   "cell_type": "code",
   "execution_count": null,
   "id": "1d4124d3",
   "metadata": {},
   "outputs": [],
   "source": [
    "# bar plot of mosquito number by week\n",
    "sns.set_palette(\"dark:#5A9_r\")\n",
    "sns.set_style('whitegrid')\n",
    "\n",
    "plt.figure(figsize=(16, 8))\n",
    "df.groupby('Week')['Mosquito number'].mean().plot(kind = 'bar')\n",
    "plt.title('Mosquito Number Variation by Week')\n",
    "plt.ylabel('Average Mosquito Number')\n",
    "plt.legend()\n",
    "plt.rcParams['font.size'] = 15"
   ]
  },
  {
   "cell_type": "markdown",
   "id": "45dfb693",
   "metadata": {},
   "source": [
    "From the bar plot above, the mosquitoes observed starts and ends out low during the sample period, while it peaks mid season during weeks 31-33. This can be explained by the increase in precipitation & stagnant water surfaces available in the city between the months of April and August. Mosquito populations usually thrive in wet and warm weather conditions so an increase in rainfall during the summer leads to more mosquito eggs."
   ]
  },
  {
   "cell_type": "markdown",
   "id": "14918eae",
   "metadata": {},
   "source": [
    "Next, we will use the plot below to explore the relationship between mosquito species and WNV prevalence."
   ]
  },
  {
   "cell_type": "code",
   "execution_count": null,
   "id": "cc3384bf",
   "metadata": {},
   "outputs": [],
   "source": [
    "# Breakdown of WNV presence by mosquito Species\n",
    "df_WNVbySpecies = df.groupby(['Species', 'WNV Present'])['WNV Present'].count().unstack()\n",
    "df_WNVbySpecies['Percentage WNV Positive'] = df_WNVbySpecies['positive']/(df_WNVbySpecies['positive'] + df_WNVbySpecies['negative']) * 100\n",
    "df_WNVbySpecies"
   ]
  },
  {
   "cell_type": "code",
   "execution_count": null,
   "id": "fc8048f7",
   "metadata": {},
   "outputs": [],
   "source": [
    "# Breakdown of WNV presence by mosquito Species\n",
    "df_WNVbySpecies[['negative', 'positive']].sort_values(\"positive\").plot(kind = 'bar', stacked = True)\n",
    "plt.xlabel('Species')\n",
    "plt.ylabel('Number of Mosquitoes Caught')\n",
    "plt.title('WNV Prevalence by Mosquito Species')\n",
    "plt.show()"
   ]
  },
  {
   "cell_type": "markdown",
   "id": "4e881803",
   "metadata": {},
   "source": [
    "From the stacked chart above, we can see the breakdown of WNV presence by Species collected. Although CULEX RESTUANS mosquitoes represented 64% of the samples collected, only 21.5% tested positive for WNV. On the other hand, 25.7% of the CULEX PIPIENS mosquitoes collected tested positive for WNV."
   ]
  },
  {
   "cell_type": "markdown",
   "id": "8d555fe5",
   "metadata": {},
   "source": [
    "### Mosquitos Caught vs. Trap Type"
   ]
  },
  {
   "cell_type": "markdown",
   "id": "865a0958",
   "metadata": {},
   "source": [
    "Next, we will use the plot below to explore the relationship between the number of mosquitos caught and trap type."
   ]
  },
  {
   "cell_type": "code",
   "execution_count": null,
   "id": "d2745ad0",
   "metadata": {},
   "outputs": [],
   "source": [
    "df.groupby(['Trap type'])['Mosquito number'].sum().sort_values(ascending=False)"
   ]
  },
  {
   "cell_type": "code",
   "execution_count": null,
   "id": "1732506c",
   "metadata": {},
   "outputs": [],
   "source": [
    "# group sum of number of mosquitos caught by trap type\n",
    "df_byTraptype = pd.DataFrame(df.groupby(['Trap type'])['Mosquito number'].sum().sort_values(ascending=False))\n",
    "df_byTraptype.reset_index(inplace = True)\n",
    "\n",
    "data = df_byTraptype['Mosquito number']\n",
    "labels = df_byTraptype['Trap type']\n",
    "sns.set_theme(font=\"arial\", font_scale=1.5)\n",
    "explode = [0.1, 0.1, 0.1 , 0.1]\n",
    "\n",
    "# create pie plot\n",
    "plt.figure(figsize=(16, 8))\n",
    "plt.pie(data, labels = labels, explode = explode, autopct='%.0f%%')\n",
    "plt.title('Mosquitos Caught by Trap Type')\n",
    "plt.rcParams['font.size'] = 12\n",
    "plt.show()"
   ]
  },
  {
   "cell_type": "code",
   "execution_count": null,
   "id": "09b9e776",
   "metadata": {},
   "outputs": [],
   "source": [
    "print(\"There were a total of \", df['Mosquito number'].sum(), \" caught between 2007 - 2019\")"
   ]
  },
  {
   "cell_type": "markdown",
   "id": "d23b91e2",
   "metadata": {},
   "source": [
    "From the pie chart above, we can see that 92.5% of the 201224 mosquitoes caught were done so using the GRAVID trap type. The CDC & SENTINEL trap types were used to collect  5% and 2.5% of the mosquitoes respectively. We can disregard the OVI trap type as its usage within our dataset was negligible (0%)."
   ]
  },
  {
   "cell_type": "markdown",
   "id": "7990593c",
   "metadata": {},
   "source": [
    "### WNV Presence by Location"
   ]
  },
  {
   "cell_type": "markdown",
   "id": "0054da63",
   "metadata": {},
   "source": [
    "Next, we will look at the distribution of WNV+ cases across the city by plotting number of positive cases on a geographical map."
   ]
  },
  {
   "cell_type": "code",
   "execution_count": null,
   "id": "dd93adaf",
   "metadata": {},
   "outputs": [],
   "source": [
    "# Importing shape file needed to create map visualization\n",
    "\n",
    "street_map = gpd.read_file('geo_export_b3cfb2d8-4739-4f37-a397-cf153252051b.shp')\n",
    "\n",
    "# Converting the Longtitude & Latitude columns into one geographical point column\n",
    "geometry = [Point(xy) for xy in zip(df[\"Lon\"], df[\"Lat\"])]\n",
    "df['geometry'] = geometry\n",
    "\n",
    "# converting the data frame into a geo-dataframe\n",
    "crs = {'init': 'epsg:4326'}\n",
    "geo_df = gpd.GeoDataFrame(df, geometry = 'geometry')\n",
    "geo_df.head()"
   ]
  },
  {
   "cell_type": "code",
   "execution_count": null,
   "id": "0c2f0b49",
   "metadata": {},
   "outputs": [],
   "source": [
    "# plotting distribution of both positive & negative WNV cases across the city\n",
    "\n",
    "sns.set_style('white')\n",
    "\n",
    "fig,ax = plt.subplots(figsize = (15, 15))\n",
    "street_map.plot(ax = ax, alpha = 0.4, color = 'grey')\n",
    "\n",
    "geo_df[geo_df['WNV Present'] == 'negative'].plot(ax = ax, markersize = 50, color = 'black', marker = 'x', label = 'Negative')\n",
    "geo_df[geo_df['WNV Present'] == 'positive'].plot(ax = ax, markersize = 20, color = 'red', marker = 'o', label = 'Positive')\n",
    "plt.title(\"Positive & Negative WNV Cases Across Chicago\")\n",
    "plt.legend(labels = ['Negative', 'Positive'],prop = {'size': 15})\n",
    "plt.show()"
   ]
  },
  {
   "cell_type": "markdown",
   "id": "23998708",
   "metadata": {},
   "source": [
    "As seen in the graph above, both WNV positive & negative mosquitos are spread all across Chicago. To get a better understanding of where WNV positive mosquitos are concentrated in the city, we will look at the top locations with most number of WNV positive cases:"
   ]
  },
  {
   "cell_type": "code",
   "execution_count": null,
   "id": "95746316",
   "metadata": {},
   "outputs": [],
   "source": [
    "# Getting the locations with the most number of WNV positive cases\n",
    "locations = df.groupby(['Lat', 'Lon', 'Address Block', 'WNV Present'])['WNV Present'].count().unstack()\n",
    "locations = locations.sort_values(by = 'positive', ascending = False)\n",
    "locations.reset_index(inplace = True)"
   ]
  },
  {
   "cell_type": "code",
   "execution_count": null,
   "id": "1ff47cf7",
   "metadata": {},
   "outputs": [],
   "source": [
    "# Converting the Longtitude & Latitude columns into one geographical point column\n",
    "geometry = [Point(xy) for xy in zip(locations[\"Lon\"], locations[\"Lat\"])]\n",
    "locations['geometry'] = geometry\n",
    "\n",
    "# converting the data frame into a geo-dataframe\n",
    "crs = {'init': 'epsg:4326'}\n",
    "geo_locations = gpd.GeoDataFrame(locations, geometry = 'geometry')\n",
    "geo_locations.head(11)"
   ]
  },
  {
   "cell_type": "code",
   "execution_count": null,
   "id": "8361ab81",
   "metadata": {},
   "outputs": [],
   "source": [
    "# Plotting the top 10 locations with the most WNV positive cases\n",
    "\n",
    "sns.set_style('white')\n",
    "\n",
    "fig,ax = plt.subplots(figsize = (15, 15))\n",
    "street_map.plot(ax = ax, alpha = 0.4, color = 'grey')\n",
    "\n",
    "geo_locations.head(11).plot(ax = ax, markersize = 50, color = 'red', marker = 'o')\n",
    "geo_locations.head(1).plot(ax = ax, markersize = 200, color = 'red', marker = 'o')\n",
    "\n",
    "plt.title(\"Top 10 Locations with Most WNV Positive Mosquitos\")\n",
    "plt.legend(labels = ['Top 10 WNV+ locations', '#1 Most WNV+ Cases'])\n",
    "\n",
    "\n",
    "for i in range(2,10):\n",
    "    ax.annotate(geo_locations['Address Block'][i] + '\\n' + str(geo_locations['positive'][i]) + ' WNV+ cases',\n",
    "            xy=(geo_locations['Lon'][i], geo_locations['Lat'][i]),\n",
    "            xytext=(geo_locations['Lon'][i]-0.04, geo_locations['Lat'][i]+0.005),\n",
    "            fontsize=12)\n",
    "\n",
    "# Combining annotation for 0HARE Airport\n",
    "ax.annotate(geo_locations['Address Block'][0] + '\\n' + str(geo_locations['positive'][0] + geo_locations['positive'][1]) + ' WNV+ cases',\n",
    "            xy=(geo_locations['Lon'][0], geo_locations['Lat'][0]),\n",
    "            xytext=(geo_locations['Lon'][0]-0.04, geo_locations['Lat'][0]+0.005),\n",
    "            fontsize=12)\n",
    "\n",
    "# Fixing annotation for 58XX N PULASKI RD so it does not overlap with 58XX N WESTERN AVE\n",
    "ax.annotate(geo_locations['Address Block'][10] + '\\n' + str(geo_locations['positive'][10]) + ' WNV+ cases',\n",
    "            xy=(geo_locations['Lon'][10], geo_locations['Lat'][10]),\n",
    "            xytext=(geo_locations['Lon'][10]-0.04, geo_locations['Lat'][10]-0.010),\n",
    "            fontsize=12)\n",
    "\n",
    "plt.show()"
   ]
  },
  {
   "cell_type": "markdown",
   "id": "15ace66d",
   "metadata": {},
   "source": [
    "From the map above, we can see that majority of the WNV positive cases can be found at the locations below:\n",
    "\n",
    "- 100XX W OHARE AIRPORT\n",
    "- 4XX W 127TH\t\n",
    "- 41XX N OAK PARK AVE\n",
    "- 52XX S KOLMAR AVE\n",
    "- 36XX N PITTSBURGH AVE\n",
    "- 70XX N MOSELLE AVE\n",
    "- 91XX W HIGGINS RD\n",
    "- 58XX N WESTERN AVE\n",
    "- 5XX S CENTRAL AVE\n",
    "- 58XX N PULASKI RD\n",
    "\n",
    "The mosquitoes tested from the O' HARE Airport location had the most number of WNV positive cases within our dataset. This is expected giving the large area of stagnant water surfaces available in the nearby regions during the summer months."
   ]
  }
 ],
 "metadata": {
  "kernelspec": {
   "display_name": "Python 3 (ipykernel)",
   "language": "python",
   "name": "python3"
  },
  "language_info": {
   "codemirror_mode": {
    "name": "ipython",
    "version": 3
   },
   "file_extension": ".py",
   "mimetype": "text/x-python",
   "name": "python",
   "nbconvert_exporter": "python",
   "pygments_lexer": "ipython3",
   "version": "3.11.5"
  },
  "toc": {
   "base_numbering": 1,
   "nav_menu": {},
   "number_sections": true,
   "sideBar": true,
   "skip_h1_title": false,
   "title_cell": "Table of Contents",
   "title_sidebar": "Contents",
   "toc_cell": false,
   "toc_position": {},
   "toc_section_display": true,
   "toc_window_display": false
  }
 },
 "nbformat": 4,
 "nbformat_minor": 5
}
